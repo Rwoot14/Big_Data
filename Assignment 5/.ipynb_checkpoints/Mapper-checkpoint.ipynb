{
 "cells": [
  {
   "cell_type": "code",
   "execution_count": null,
   "metadata": {
    "collapsed": true
   },
   "outputs": [],
   "source": [
    "import sys\n",
    "\n",
    "def read_session(file):\n",
    "    \n",
    "    for line in file:\n",
    "        # split the line into components: user_id:sessions_type, event_list, and dictionary\n",
    "        yield line.strip().split('\\t')\n",
    "        \n",
    "def main():\n",
    "\n",
    "    for lis in read_session(sys.stdin):\n",
    "        if len(lis)>1:\n",
    "            user_id_string, event_list_string, vin_dict_string=lis\n",
    "            user_id, session_type = user_id_string.split(':')\n",
    "            event_list = eval(event_list_string)\n",
    "            vin_dict = eval(vin_dict_string)\n",
    "            for key, value in vin_dict.iteritems():\n",
    "                click=0\n",
    "                contact_form=0\n",
    "                for event in event_list:\n",
    "                    if event['vin']==key:\n",
    "                        if event['event_action']=='click':\n",
    "                            click+=1\n",
    "                        if event['event_target']=='contact form':\n",
    "                            contact_form=1\n",
    "                print key,1,click,contact_form,0,0\n",
    "\n",
    "\n",
    "        else:\n",
    "            for i in lis:\n",
    "                line=i.split(',')\n",
    "                if line[1]=='SRP':\n",
    "                    print line[0],0,0,0,line[2],0\n",
    "                if line[1]=='VDP':\n",
    "                    print line[0],0,0,0,0,line[2]\n",
    "                \n",
    "if __name__ == \"__main__\":\n",
    "    main()\n"
   ]
  }
 ],
 "metadata": {
  "kernelspec": {
   "display_name": "Python 2",
   "language": "python",
   "name": "python2"
  },
  "language_info": {
   "codemirror_mode": {
    "name": "ipython",
    "version": 2
   },
   "file_extension": ".py",
   "mimetype": "text/x-python",
   "name": "python",
   "nbconvert_exporter": "python",
   "pygments_lexer": "ipython2",
   "version": "2.7.13"
  }
 },
 "nbformat": 4,
 "nbformat_minor": 2
}
