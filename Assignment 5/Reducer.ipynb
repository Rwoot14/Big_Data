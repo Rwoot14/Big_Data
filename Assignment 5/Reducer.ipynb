{
 "cells": [
  {
   "cell_type": "code",
   "execution_count": null,
   "metadata": {
    "collapsed": true
   },
   "outputs": [],
   "source": [
    "import sys\n",
    "\n",
    "def read_session(file):\n",
    "\n",
    "    \n",
    "    for line in file:\n",
    "        # split the line into components: user_id:sessions_type, event_list, and dictionary\n",
    "        if not line.strip():\n",
    "            continue\n",
    "        else:\n",
    "            yield line.strip().split(' ')\n",
    "            \n",
    "def main():\n",
    "    current_vin=None\n",
    "    for vin,session,click,contact,srp,vdp in read_session(sys.stdin):\n",
    "        try:\n",
    "            session=int(session)\n",
    "            click=int(click)\n",
    "            contact=int(contact)\n",
    "            srp=int(srp)\n",
    "            vdp=int(vdp)\n",
    "        except:\n",
    "            ValueError\n",
    "        \n",
    "        if current_vin==vin:\n",
    "            session_count+=session\n",
    "            click_count+=click\n",
    "            contact_count+=contact\n",
    "            srp_count+=srp\n",
    "            vdp_count+=vdp\n",
    "            current_vin==vin\n",
    "            \n",
    "        else:\n",
    "            if current_vin:\n",
    "                if session_count>0:\n",
    "                    print current_vin,session_count,click_count,contact_count,srp_count,vdp_count\n",
    "    \n",
    "            session_count=0\n",
    "            click_count=0\n",
    "            contact_count=0\n",
    "            srp_count=0\n",
    "            vdp_count=0\n",
    "            \n",
    "            session_count+=session\n",
    "            click_count+=click\n",
    "            contact_count+=contact\n",
    "            srp_count+=srp\n",
    "            vdp_count+=vdp\n",
    "            current_vin=vin\n",
    "          \n",
    "        \n",
    "    if current_vin==vin:       \n",
    "        if session_count>0:\n",
    "            print current_vin,session_count,click_count,contact_count,srp_count,vdp_count\n",
    "        \n",
    "        \n",
    "if __name__ == \"__main__\":\n",
    "    main()\n",
    "    \n"
   ]
  }
 ],
 "metadata": {
  "kernelspec": {
   "display_name": "Python 2",
   "language": "python",
   "name": "python2"
  },
  "language_info": {
   "codemirror_mode": {
    "name": "ipython",
    "version": 2
   },
   "file_extension": ".py",
   "mimetype": "text/x-python",
   "name": "python",
   "nbconvert_exporter": "python",
   "pygments_lexer": "ipython2",
   "version": "2.7.13"
  }
 },
 "nbformat": 4,
 "nbformat_minor": 2
}
