{
 "cells": [
  {
   "cell_type": "code",
   "execution_count": null,
   "metadata": {
    "collapsed": true
   },
   "outputs": [],
   "source": [
    "import sys\n",
    "import re\n",
    "def split_t(line):\n",
    "    line=line.replace(' \\t\\t',' ')\n",
    "    return line.split('\\t')\n",
    "def Finder(split_t_out):\n",
    "    clean=[]\n",
    "    for i in split_t_out:\n",
    "        find=re.findall(r'To: [\\w+.\\w+@\\w+,\\- ]+.com',i) or re.findall(r'From: [\\w+.\\w+@\\w+,\\- ]+.com',i) or re.findall(r'Cc: [\\w+.\\w+@\\w+.com,\\- ]+',i) or re.findall(r'Bcc: [\\w+.\\w+@\\w+.com,\\- ]+',i) or re.findall(r'Message-ID: <\\w+.\\w+.\\w+.\\w+.\\w+@\\w+>',i)\n",
    "        if find==[]:\n",
    "            continue\n",
    "        else:\n",
    "            clean.append(find)\n",
    "    return clean\n",
    "def main_map(find_out):\n",
    "    final=[]\n",
    "    for i in find_out:\n",
    "        for t in i:\n",
    "            split_comma=t.split(',')\n",
    "            for j in split_comma:\n",
    "                if 'Message-ID:' in j:\n",
    "                    value=j\n",
    "                    continue\n",
    "                try:\n",
    "                    if j[0]==' ':\n",
    "                        new_item=current_header.strip()+j\n",
    "                        tupl=(new_item,value)\n",
    "                        final.append(tupl)\n",
    "                    else:\n",
    "                        current_header=j[0:4]\n",
    "                        tupl=(j,value)\n",
    "                        final.append(tupl)\n",
    "                except:\n",
    "                    continue\n",
    "    return final\n",
    "def final_out(fin_tup):\n",
    "    for i,g in fin_tup:\n",
    "        print '%s\\t%s'%(i,g)\n",
    "        \n",
    "def Mapper(line):\n",
    "    line=line\n",
    "    split_t_out=split_t(line)\n",
    "    find_out=Finder(split_t_out)\n",
    "    fin_tup=main_map(find_out)\n",
    "    return final_out(fin_tup)\n",
    "\n",
    "for line in sys.stdin:\n",
    "    Mapper(line)"
   ]
  }
 ],
 "metadata": {
  "kernelspec": {
   "display_name": "Python 2",
   "language": "python",
   "name": "python2"
  },
  "language_info": {
   "codemirror_mode": {
    "name": "ipython",
    "version": 2
   },
   "file_extension": ".py",
   "mimetype": "text/x-python",
   "name": "python",
   "nbconvert_exporter": "python",
   "pygments_lexer": "ipython2",
   "version": "2.7.13"
  }
 },
 "nbformat": 4,
 "nbformat_minor": 2
}
