{
 "cells": [
  {
   "cell_type": "code",
   "execution_count": null,
   "metadata": {
    "collapsed": true
   },
   "outputs": [],
   "source": [
    "import sys\n",
    "current_email=None\n",
    "for line in sys.stdin:\n",
    "    if not line.strip():\n",
    "        continue\n",
    "    else:\n",
    "        line=line.strip()\n",
    "        email,message_id=line.split('\\t')\n",
    "        if current_email==email:\n",
    "            lis.append(message_id)\n",
    "        else:\n",
    "            if current_email:\n",
    "                dic[email]=lis\n",
    "                for i in dic:\n",
    "                    print '%s\\t%s' % (i,dic[i])\n",
    "                    print '\\n'\n",
    "                dic={}\n",
    "            lis=[]\n",
    "            lis.append(message_id)\n",
    "            current_email=email\n"
   ]
  }
 ],
 "metadata": {
  "kernelspec": {
   "display_name": "Python 2",
   "language": "python",
   "name": "python2"
  },
  "language_info": {
   "codemirror_mode": {
    "name": "ipython",
    "version": 2
   },
   "file_extension": ".py",
   "mimetype": "text/x-python",
   "name": "python",
   "nbconvert_exporter": "python",
   "pygments_lexer": "ipython2",
   "version": "2.7.13"
  }
 },
 "nbformat": 4,
 "nbformat_minor": 2
}
