{
 "cells": [
  {
   "cell_type": "markdown",
   "metadata": {},
   "source": [
    "Let's develop some functions we can reuse to read mapper input and reducer input.\n",
    "\n",
    "First - read mapper input file that we'll split on whitespace.\n",
    "This function creates and returns a \"generator\""
   ]
  },
  {
   "cell_type": "code",
   "execution_count": null,
   "metadata": {
    "collapsed": true
   },
   "outputs": [],
   "source": [
    "def read_input(file):\n",
    "    for line in file:\n",
    "        # remove leading/trailing whitespace\n",
    "        # split the line into words\n",
    "        yield line.strip().split()"
   ]
  },
  {
   "cell_type": "markdown",
   "metadata": {},
   "source": [
    "Testing the read_input function:\n",
    "- Open a file, Call read_input to get a generator, Print results"
   ]
  },
  {
   "cell_type": "code",
   "execution_count": null,
   "metadata": {
    "collapsed": true
   },
   "outputs": [],
   "source": [
    "f1 = open(\"fox.txt\", 'r')\n",
    "gen1 = read_input(f1)"
   ]
  },
  {
   "cell_type": "code",
   "execution_count": null,
   "metadata": {},
   "outputs": [],
   "source": [
    "for words in gen1:\n",
    "    # Print the results returned by the generator\n",
    "    print(words)"
   ]
  },
  {
   "cell_type": "code",
   "execution_count": null,
   "metadata": {
    "collapsed": true
   },
   "outputs": [],
   "source": [
    "f1.close()"
   ]
  },
  {
   "cell_type": "markdown",
   "metadata": {},
   "source": [
    "What do we need to calculate word count?\n",
    "For each input, output the tuple [ word, 1 ]."
   ]
  },
  {
   "cell_type": "code",
   "execution_count": null,
   "metadata": {},
   "outputs": [],
   "source": [
    "def count_words(words):\n",
    "    # Output tuples [word, 1] in tab-delimited format \n",
    "    for word in words:\n",
    "        # For each word in the line, output a key/value pair\n",
    "        # with the word as the key, and \"1\" as the value.\n",
    "        print '%s\\t%s' % (word, 1)"
   ]
  },
  {
   "cell_type": "markdown",
   "metadata": {},
   "source": [
    "Test the count_words function."
   ]
  },
  {
   "cell_type": "code",
   "execution_count": null,
   "metadata": {},
   "outputs": [],
   "source": [
    "\"one two three three three two\".split()"
   ]
  },
  {
   "cell_type": "code",
   "execution_count": null,
   "metadata": {},
   "outputs": [],
   "source": [
    "count_words(\"one two three three three two\".split())"
   ]
  },
  {
   "cell_type": "markdown",
   "metadata": {},
   "source": [
    "Test the count_words function using our function that reads mapper input."
   ]
  },
  {
   "cell_type": "code",
   "execution_count": null,
   "metadata": {},
   "outputs": [],
   "source": [
    "f1 = open(\"fox.txt\", 'r')\n",
    "gen1 = read_input(f1)\n",
    "\n",
    "for words in gen1:\n",
    "    count_words(words)\n",
    "    \n",
    "f1.close()"
   ]
  },
  {
   "cell_type": "markdown",
   "metadata": {},
   "source": [
    "Now a function that reads key/value reducer input.\n",
    "\n",
    "In reduce input, the key is separated from the value with a tab."
   ]
  },
  {
   "cell_type": "code",
   "execution_count": null,
   "metadata": {
    "collapsed": true
   },
   "outputs": [],
   "source": [
    "def read_key_value(file):\n",
    "    for line in file:\n",
    "        # split the line into components, before and after the tab\n",
    "        yield line.strip().split('\\t', 1)"
   ]
  },
  {
   "cell_type": "markdown",
   "metadata": {},
   "source": [
    "Test the read_key_value function."
   ]
  },
  {
   "cell_type": "code",
   "execution_count": null,
   "metadata": {
    "collapsed": true
   },
   "outputs": [],
   "source": [
    "f2 = open(\"wcMapOutput.txt\", 'r')\n",
    "gen2 = read_key_value(f2)"
   ]
  },
  {
   "cell_type": "code",
   "execution_count": null,
   "metadata": {},
   "outputs": [],
   "source": [
    "for word, counts in gen2:\n",
    "    print(word, counts)"
   ]
  },
  {
   "cell_type": "code",
   "execution_count": null,
   "metadata": {
    "collapsed": true
   },
   "outputs": [],
   "source": [
    "f2.close()"
   ]
  },
  {
   "cell_type": "markdown",
   "metadata": {},
   "source": [
    "Define the reduce function"
   ]
  },
  {
   "cell_type": "code",
   "execution_count": null,
   "metadata": {
    "collapsed": true
   },
   "outputs": [],
   "source": [
    "def word_count_reduce(kv_pairs):\n",
    "    # Initialize the dictionary\n",
    "    word2count = {}\n",
    "    \n",
    "    # Output tuples [word, 1] in tab-delimited format \n",
    "    for word, count in kv_pairs:\n",
    "        # convert count (currently a string) to int\n",
    "        try:\n",
    "            count = int(count)\n",
    "        except ValueError:\n",
    "            continue\n",
    "\n",
    "        try:\n",
    "            word2count[word] = word2count[word]+count\n",
    "        except:\n",
    "            word2count[word] = count\n",
    "\n",
    "    # write the tuples to stdout\n",
    "    # Note: they are unsorted\n",
    "    for word in word2count.keys():\n",
    "        print '%s\\t%s'% ( word, word2count[word] )"
   ]
  },
  {
   "cell_type": "markdown",
   "metadata": {},
   "source": [
    "Test the reduce function"
   ]
  },
  {
   "cell_type": "code",
   "execution_count": null,
   "metadata": {},
   "outputs": [],
   "source": [
    "f2 = open(\"wcMapOutput.txt\", 'r')\n",
    "gen2 = read_key_value(f2)\n",
    "\n",
    "word_count_reduce(gen2)\n",
    "\n",
    "f2.close()"
   ]
  },
  {
   "cell_type": "markdown",
   "metadata": {},
   "source": [
    "Refine the reduce function (avoid the dictionary)"
   ]
  },
  {
   "cell_type": "code",
   "execution_count": null,
   "metadata": {
    "collapsed": true
   },
   "outputs": [],
   "source": [
    "def word_count_reduce2(kv_pairs):\n",
    "    current_word = None\n",
    "    current_count = 0\n",
    "    word = None\n",
    "\n",
    "    # input comes from STDIN\n",
    "    for word, count in kv_pairs:\n",
    "        # convert count (currently a string) to int\n",
    "        try:\n",
    "            count = int(count)\n",
    "        except ValueError:\n",
    "            # Count was not a number\n",
    "            continue\n",
    "\n",
    "        if current_word == word:\n",
    "            current_count += count\n",
    "        else:\n",
    "            if current_word:\n",
    "                # Output the count for current_word\n",
    "                # Hadoop has sorted key/value pairs by key\n",
    "                print '{}\\t{}'.format(current_word, current_count)\n",
    "            current_count = count\n",
    "            current_word = word\n",
    "\n",
    "    # Output the last word, if needed\n",
    "    if current_word == word:\n",
    "        print '{}\\t{}'.format(current_word, current_count)\n"
   ]
  },
  {
   "cell_type": "markdown",
   "metadata": {},
   "source": [
    "Test the refined reduce function"
   ]
  },
  {
   "cell_type": "code",
   "execution_count": null,
   "metadata": {},
   "outputs": [],
   "source": [
    "f2 = open(\"wcMapOutput.txt\", 'r')\n",
    "gen2 = read_key_value(f2)\n",
    "\n",
    "word_count_reduce2(gen2)\n",
    "\n",
    "f2.close()"
   ]
  },
  {
   "cell_type": "code",
   "execution_count": null,
   "metadata": {
    "collapsed": true
   },
   "outputs": [],
   "source": []
  }
 ],
 "metadata": {
  "kernelspec": {
   "display_name": "Python 2",
   "language": "python",
   "name": "python2"
  },
  "language_info": {
   "codemirror_mode": {
    "name": "ipython",
    "version": 2
   },
   "file_extension": ".py",
   "mimetype": "text/x-python",
   "name": "python",
   "nbconvert_exporter": "python",
   "pygments_lexer": "ipython2",
   "version": "2.7.13"
  }
 },
 "nbformat": 4,
 "nbformat_minor": 1
}
